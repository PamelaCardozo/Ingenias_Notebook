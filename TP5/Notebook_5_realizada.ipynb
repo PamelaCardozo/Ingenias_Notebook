{
 "cells": [
  {
   "cell_type": "markdown",
   "metadata": {
    "id": "Gp2WddtV9IwG"
   },
   "source": [
    "# Programa Ingenias+ Data Science"
   ]
  },
  {
   "cell_type": "markdown",
   "metadata": {
    "id": "H4M1yVbf9IwH"
   },
   "source": [
    "Como dijimos en clases anteriores, Python tiene implementadas muchas librerias para poder trabajar con datos. En la clase de hoy trabajaremos con una de ellas: `Numpy`."
   ]
  },
  {
   "cell_type": "markdown",
   "metadata": {
    "id": "GdTT8WeL9IwI"
   },
   "source": [
    "Antes de comenzar, vamos a hablar un poco de esta libreria o modulo.\n",
    "\n",
    "**Numpy** es una librería optimizada para realizar cálculos numéricos con vectores y matrices. A diferencia de otros lenguajes de programación, Python no posee en su estructura central la figura de matrices. Eso quiere decir que para poder trabajar con esta estructura de datos deberiamos trabajar con listas de listas. NumPy introduce el concepto de arrays o matrices."
   ]
  },
  {
   "cell_type": "markdown",
   "metadata": {
    "id": "qWkq3EHK9IwK"
   },
   "source": [
    "Al ser de código abierto, `numpy` posee una documentación muy amplia que es **SIEMPRE RECOMENDABLE** consultar."
   ]
  },
  {
   "cell_type": "markdown",
   "metadata": {
    "id": "nxe3KLUO9IwL"
   },
   "source": [
    "- [Documentacion NumPy](https://devdocs.io/numpy/)"
   ]
  },
  {
   "cell_type": "markdown",
   "metadata": {
    "id": "l1Ay3nSs9IwN"
   },
   "source": [
    "## Clase 4: Introduccion a NumPy"
   ]
  },
  {
   "cell_type": "markdown",
   "metadata": {
    "id": "X03mviQS9IyL"
   },
   "source": [
    "# Ejercicios\n",
    "\n",
    "1. Crear un arreglo de ceros de longitud 12\n",
    "2. Crear un arreglo de longitud 10 con ceros en todas sus posiciones y un 10 en la posición número 5\n",
    "3. Crear un arreglo que tenga los números del 10 al 49\n",
    "4. Crear una arreglo 2d de shape (3, 3) que tenga los números del 0 al 8\n",
    "5. Crear un arreglo de números aleatorios de longitud 100 y obtener su media y varianza\n",
    "6. Calcular la media de un arreglo usando np.sum\n",
    "7. Calcular la varianza de un arreglo usando np.sum y np.mean\n",
    "8. Crear un array de números aleatorios usando np.random.randn.\n"
   ]
  },
  {
   "cell_type": "code",
   "execution_count": 4,
   "metadata": {
    "executionInfo": {
     "elapsed": 437,
     "status": "ok",
     "timestamp": 1714935701977,
     "user": {
      "displayName": "Pamela Cardozo",
      "userId": "08629397398967229901"
     },
     "user_tz": 180
    },
    "id": "kJGwmwxzqQO7"
   },
   "outputs": [],
   "source": [
    "import numpy as np"
   ]
  },
  {
   "cell_type": "code",
   "execution_count": null,
   "metadata": {
    "colab": {
     "base_uri": "https://localhost:8080/"
    },
    "executionInfo": {
     "elapsed": 327,
     "status": "ok",
     "timestamp": 1714676238687,
     "user": {
      "displayName": "Pamela Cardozo",
      "userId": "08629397398967229901"
     },
     "user_tz": 180
    },
    "id": "Gp4yVTmjqdZF",
    "outputId": "b0499656-ff2f-4f41-c476-9f1e2fca8306"
   },
   "outputs": [
    {
     "name": "stdout",
     "output_type": "stream",
     "text": [
      "[0. 0. 0. 0. 0. 0. 0. 0. 0. 0. 0. 0.]\n"
     ]
    }
   ],
   "source": [
    "# creo un arreglo de ceros de longitud 12.\n",
    "print(np.zeros(12))"
   ]
  },
  {
   "cell_type": "code",
   "execution_count": null,
   "metadata": {
    "colab": {
     "base_uri": "https://localhost:8080/"
    },
    "executionInfo": {
     "elapsed": 328,
     "status": "ok",
     "timestamp": 1714676441627,
     "user": {
      "displayName": "Pamela Cardozo",
      "userId": "08629397398967229901"
     },
     "user_tz": 180
    },
    "id": "mU-WvWILrAHj",
    "outputId": "1fdf1b18-8185-4380-bb43-1ffe53fadb0a"
   },
   "outputs": [
    {
     "name": "stdout",
     "output_type": "stream",
     "text": [
      "[ 0.  0.  0.  0.  0. 10.  0.  0.  0.  0.]\n"
     ]
    }
   ],
   "source": [
    "# creo un arreglo de longitud 10 con ceros en toda sus posiciones y un 10 en la posición número 5.\n",
    "array =np.zeros(10)\n",
    "array[5]=10\n",
    "print(array)"
   ]
  },
  {
   "cell_type": "code",
   "execution_count": null,
   "metadata": {
    "colab": {
     "base_uri": "https://localhost:8080/"
    },
    "executionInfo": {
     "elapsed": 381,
     "status": "ok",
     "timestamp": 1714676701756,
     "user": {
      "displayName": "Pamela Cardozo",
      "userId": "08629397398967229901"
     },
     "user_tz": 180
    },
    "id": "uLcPNXvBrqvG",
    "outputId": "fc90e758-e85b-4f72-d025-144211fb004c"
   },
   "outputs": [
    {
     "name": "stdout",
     "output_type": "stream",
     "text": [
      "[10 11 12 13 14 15 16 17 18 19 20 21 22 23 24 25 26 27 28 29 30 31 32 33\n",
      " 34 35 36 37 38 39 40 41 42 43 44 45 46 47 48 49]\n"
     ]
    }
   ],
   "source": [
    "# creo un arreglo que tenga los números del 10 al 49.\n",
    "print(np.arange(10,50))"
   ]
  },
  {
   "cell_type": "code",
   "execution_count": null,
   "metadata": {
    "colab": {
     "base_uri": "https://localhost:8080/"
    },
    "executionInfo": {
     "elapsed": 432,
     "status": "ok",
     "timestamp": 1714676942204,
     "user": {
      "displayName": "Pamela Cardozo",
      "userId": "08629397398967229901"
     },
     "user_tz": 180
    },
    "id": "lK2hvqMbskC9",
    "outputId": "ab6bbd27-f1e3-475d-ca77-8e9da65eadd5"
   },
   "outputs": [
    {
     "name": "stdout",
     "output_type": "stream",
     "text": [
      "[[0 1 2]\n",
      " [3 4 5]\n",
      " [6 7 8]]\n"
     ]
    }
   ],
   "source": [
    "# crea un arreglo 2d de shape (3,3) que tenga los números del 0 al 8.\n",
    "array_2d = np.arange(9).reshape(3,3)\n",
    "print(array_2d)\n"
   ]
  },
  {
   "cell_type": "code",
   "execution_count": null,
   "metadata": {
    "colab": {
     "base_uri": "https://localhost:8080/"
    },
    "executionInfo": {
     "elapsed": 304,
     "status": "ok",
     "timestamp": 1714677356291,
     "user": {
      "displayName": "Pamela Cardozo",
      "userId": "08629397398967229901"
     },
     "user_tz": 180
    },
    "id": "MK1QiWlJtfQ8",
    "outputId": "8aadf99e-3928-4263-a0da-4c56ff3ec459"
   },
   "outputs": [
    {
     "name": "stdout",
     "output_type": "stream",
     "text": [
      "Media: 20.0, Varianza: 0.0\n"
     ]
    }
   ],
   "source": [
    "# crear un arreglo de números aleatorios de longitud 100 y obtener su media y varianza.\n",
    "arr_aleatorio = np.random.randint(100)\n",
    "media = np.mean (arr_aleatorio)\n",
    "varianza = np.var(arr_aleatorio)\n",
    "\n",
    "print(\"Media: {}, Varianza: {}\".format(media,varianza))"
   ]
  },
  {
   "cell_type": "code",
   "execution_count": null,
   "metadata": {
    "colab": {
     "base_uri": "https://localhost:8080/"
    },
    "executionInfo": {
     "elapsed": 743,
     "status": "ok",
     "timestamp": 1714677658899,
     "user": {
      "displayName": "Pamela Cardozo",
      "userId": "08629397398967229901"
     },
     "user_tz": 180
    },
    "id": "QZJ1TtF0vCXx",
    "outputId": "9166c479-8ba4-4218-b022-7f73bddb7908"
   },
   "outputs": [
    {
     "name": "stdout",
     "output_type": "stream",
     "text": [
      "Media del arreglo:  3.0\n"
     ]
    }
   ],
   "source": [
    "# calcula la media de un arreglo usando np.sum.\n",
    "array = np.array([1,2,3,4,5])\n",
    "media = np.sum(array) /len(array)\n",
    "\n",
    "print(\"Media del arreglo: \",media)"
   ]
  },
  {
   "cell_type": "code",
   "execution_count": 6,
   "metadata": {
    "colab": {
     "base_uri": "https://localhost:8080/"
    },
    "executionInfo": {
     "elapsed": 415,
     "status": "ok",
     "timestamp": 1714935715999,
     "user": {
      "displayName": "Pamela Cardozo",
      "userId": "08629397398967229901"
     },
     "user_tz": 180
    },
    "id": "FiIwR2T9vKx7",
    "outputId": "8f6d207f-6e5d-458c-c9fc-8f59920c6958"
   },
   "outputs": [
    {
     "name": "stdout",
     "output_type": "stream",
     "text": [
      "Varianza del arreglo:  2.0\n"
     ]
    }
   ],
   "source": [
    "#calcula la varianza de un arreglo usando np.sum y np.mean.\n",
    "\n",
    "media = np.mean(array)\n",
    "\n",
    "dif_cuadrado = (array - media) ** 2\n",
    "varianza= np.sum(dif_cuadrado) /len(array)\n",
    "\n",
    "print(\"Varianza del arreglo: \", varianza)\n"
   ]
  },
  {
   "cell_type": "code",
   "execution_count": 8,
   "metadata": {
    "colab": {
     "base_uri": "https://localhost:8080/"
    },
    "executionInfo": {
     "elapsed": 408,
     "status": "ok",
     "timestamp": 1714936023111,
     "user": {
      "displayName": "Pamela Cardozo",
      "userId": "08629397398967229901"
     },
     "user_tz": 180
    },
    "id": "SLgrfc2YInb_",
    "outputId": "4e78bb6f-c714-42bb-e938-1b490fa87e7b"
   },
   "outputs": [
    {
     "name": "stdout",
     "output_type": "stream",
     "text": [
      "Arreglo de números aleatorios: \n",
      "[-2.57148057e-04  1.00352401e-01  1.16662549e+00  1.73095258e-01\n",
      "  3.71803195e-01 -9.76341865e-01  1.18235247e+00  1.13489996e-01\n",
      "  9.33417874e-01 -5.88110290e-01]\n"
     ]
    }
   ],
   "source": [
    "# creo un array de números aleatorios usando np.random.randn.\n",
    "array_aleatorio = np.random.randn (10)\n",
    "\n",
    "print(\"Arreglo de números aleatorios: \")\n",
    "print(array_aleatorio)"
   ]
  },
  {
   "cell_type": "code",
   "execution_count": null,
   "metadata": {
    "id": "G0NMKT609IyM"
   },
   "outputs": [],
   "source": []
  }
 ],
 "metadata": {
  "colab": {
   "provenance": []
  },
  "kernelspec": {
   "display_name": "Python 3 (ipykernel)",
   "language": "python",
   "name": "python3"
  },
  "language_info": {
   "codemirror_mode": {
    "name": "ipython",
    "version": 3
   },
   "file_extension": ".py",
   "mimetype": "text/x-python",
   "name": "python",
   "nbconvert_exporter": "python",
   "pygments_lexer": "ipython3",
   "version": "3.11.7"
  }
 },
 "nbformat": 4,
 "nbformat_minor": 4
}
