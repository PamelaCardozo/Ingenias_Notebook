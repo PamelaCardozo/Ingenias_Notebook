{
  "nbformat": 4,
  "nbformat_minor": 0,
  "metadata": {
    "kernelspec": {
      "display_name": "Python 3",
      "language": "python",
      "name": "python3"
    },
    "language_info": {
      "codemirror_mode": {
        "name": "ipython",
        "version": 3
      },
      "file_extension": ".py",
      "mimetype": "text/x-python",
      "name": "python",
      "nbconvert_exporter": "python",
      "pygments_lexer": "ipython3",
      "version": "3.7.3"
    },
    "colab": {
      "provenance": [],
      "include_colab_link": true
    }
  },
  "cells": [
    {
      "cell_type": "markdown",
      "metadata": {
        "id": "view-in-github",
        "colab_type": "text"
      },
      "source": [
        "<a href=\"https://colab.research.google.com/github/PamelaCardozo/Ingenias_Notebook/blob/main/TP4/Notebook_4.ipynb\" target=\"_parent\"><img src=\"https://colab.research.google.com/assets/colab-badge.svg\" alt=\"Open In Colab\"/></a>"
      ]
    },
    {
      "cell_type": "markdown",
      "metadata": {
        "id": "Gp2WddtV9IwG"
      },
      "source": [
        "# Programa Ingenias+ Data Science"
      ]
    },
    {
      "cell_type": "markdown",
      "metadata": {
        "id": "H4M1yVbf9IwH"
      },
      "source": [
        "Como dijimos en clases anteriores, Python tiene implementadas muchas librerias para poder trabajar con datos. En la clase de hoy trabajaremos con una de ellas: `Numpy`."
      ]
    },
    {
      "cell_type": "markdown",
      "metadata": {
        "id": "GdTT8WeL9IwI"
      },
      "source": [
        "Antes de comenzar, vamos a hablar un poco de esta libreria.\n",
        "\n",
        "**Numpy** es una librería optimizada para realizar cálculos numéricos con vectores y matrices. A diferencia de otros lenguajes de programación, Python no posee en su estructura central la figura de matrices. Eso quiere decir que para poder trabajar con esta estructura de datos deberiamos trabajar con listas de listas. NumPy introduce el concepto de arrays o matrices."
      ]
    },
    {
      "cell_type": "markdown",
      "metadata": {
        "id": "qWkq3EHK9IwK"
      },
      "source": [
        "Al ser de código abierto, `numpy` posee una documentación muy amplia que es **SIEMPRE RECOMENDABLE** consultar."
      ]
    },
    {
      "cell_type": "markdown",
      "metadata": {
        "id": "nxe3KLUO9IwL"
      },
      "source": [
        "- [Documentacion NumPy](https://devdocs.io/numpy/)"
      ]
    },
    {
      "cell_type": "markdown",
      "metadata": {
        "id": "l1Ay3nSs9IwN"
      },
      "source": [
        "## Clase 4: Introduccion a NumPy"
      ]
    },
    {
      "cell_type": "markdown",
      "metadata": {
        "id": "1SOPXukc9IwO"
      },
      "source": [
        "NumPy no pertenece al _core_ de Python y es por eso que debemos importarlo para poder usarlo."
      ]
    },
    {
      "cell_type": "markdown",
      "metadata": {
        "id": "D9O1UmgD9IwP"
      },
      "source": [
        "Para importar una libreria en Python se usa la siguiente sintaxis:\n",
        "    \n",
        "`import libreria as alias`\n",
        "\n",
        "Para importar una funcion en particular de un modulo o libreria, utilizamos la sintaxis:\n",
        "    \n",
        "`from libreria import funcion`"
      ]
    },
    {
      "cell_type": "markdown",
      "metadata": {
        "id": "i9dlKZ1v9IwP"
      },
      "source": [
        "Como convencion, cuando se importa `numpy` se le asigna el alias `np`. Pero esto no es obligatorio, solo me facilita muchas veces la escritura del codigo."
      ]
    },
    {
      "cell_type": "code",
      "metadata": {
        "id": "bILSO0jr9IwQ"
      },
      "source": [
        "#Importar numpy\n",
        "import numpy as np"
      ],
      "execution_count": 1,
      "outputs": []
    },
    {
      "cell_type": "markdown",
      "metadata": {
        "id": "ksBsqePu9IwU"
      },
      "source": [
        "De ahora en mas para utilizar una función de Numpy solo tengo que usar `np` y luego llamar función. Por ejemplo, si quiero llamar la función `.mean()`, debo escribir: `np.mean()`."
      ]
    },
    {
      "cell_type": "markdown",
      "metadata": {
        "id": "VepZgbG69IwV"
      },
      "source": [
        "Comenzemos a ver que funciones se pueden utilizar en NumPy."
      ]
    },
    {
      "cell_type": "markdown",
      "metadata": {
        "id": "bA7MFSiS9IwV"
      },
      "source": [
        "- `.array()`"
      ]
    },
    {
      "cell_type": "markdown",
      "metadata": {
        "id": "FnPfh-Qa9IwW"
      },
      "source": [
        "Esta función me permite crear un array. Es posible crear arrays a partir de listas."
      ]
    },
    {
      "cell_type": "code",
      "metadata": {
        "id": "gr5IX5Zn9IwX"
      },
      "source": [
        "#creo un array\n",
        "arr = np.array([10, 11, 12, 13, 14, 15, 16, 17, 18, 19])"
      ],
      "execution_count": 2,
      "outputs": []
    },
    {
      "cell_type": "code",
      "metadata": {
        "id": "CJGrumM49Iwa",
        "outputId": "2b54cfc1-96aa-4f38-9fa9-5bd62036d89c",
        "colab": {
          "base_uri": "https://localhost:8080/"
        }
      },
      "source": [
        "#crea una lista llamada mi_lista que contenga 10 numeros\n",
        "\n",
        "mi_lista = [45,123,89,3,45,2,99,56,34,10]\n",
        "\n",
        "#Ahora transforma tu lista en un array usando np.array y asignalo a la variable mi_array\n",
        "\n",
        "mi_array = np.array(mi_lista)\n",
        "#Imprimi mi_array\n",
        "print(mi_array)"
      ],
      "execution_count": 5,
      "outputs": [
        {
          "output_type": "stream",
          "name": "stdout",
          "text": [
            "[ 45 123  89   3  45   2  99  56  34  10]\n"
          ]
        }
      ]
    },
    {
      "cell_type": "markdown",
      "metadata": {
        "id": "pkmckzMD9Iwc"
      },
      "source": [
        "Podemos usar `type` para obtener el tipo de estructura de datos que estamos trabajando."
      ]
    },
    {
      "cell_type": "code",
      "metadata": {
        "id": "W60TBE9t9Iwd",
        "outputId": "1b9e2f6c-77e3-44e8-b739-332436e4a888",
        "colab": {
          "base_uri": "https://localhost:8080/"
        }
      },
      "source": [
        "#Aplica type sobre mi_array para mostrar que tipo de estructura de datos es\n",
        "type(mi_array)\n"
      ],
      "execution_count": 6,
      "outputs": [
        {
          "output_type": "execute_result",
          "data": {
            "text/plain": [
              "numpy.ndarray"
            ]
          },
          "metadata": {},
          "execution_count": 6
        }
      ]
    },
    {
      "cell_type": "markdown",
      "metadata": {
        "id": "EbksvAhu9Iwg"
      },
      "source": [
        "Los arrays y las listas se comportan diferente frente operaciones matematicas con números."
      ]
    },
    {
      "cell_type": "code",
      "metadata": {
        "id": "ieN2Van39Iwh",
        "outputId": "0c5f597b-5b2e-4573-aef0-7bd7f38083cd",
        "colab": {
          "base_uri": "https://localhost:8080/",
          "height": 158
        }
      },
      "source": [
        "#Corre el siguiente codigo\n",
        "print(mi_lista + 2)"
      ],
      "execution_count": 7,
      "outputs": [
        {
          "output_type": "error",
          "ename": "TypeError",
          "evalue": "can only concatenate list (not \"int\") to list",
          "traceback": [
            "\u001b[0;31m---------------------------------------------------------------------------\u001b[0m",
            "\u001b[0;31mTypeError\u001b[0m                                 Traceback (most recent call last)",
            "\u001b[0;32m<ipython-input-7-466462783f25>\u001b[0m in \u001b[0;36m<cell line: 2>\u001b[0;34m()\u001b[0m\n\u001b[1;32m      1\u001b[0m \u001b[0;31m#Corre el siguiente codigo\u001b[0m\u001b[0;34m\u001b[0m\u001b[0;34m\u001b[0m\u001b[0m\n\u001b[0;32m----> 2\u001b[0;31m \u001b[0mprint\u001b[0m\u001b[0;34m(\u001b[0m\u001b[0mmi_lista\u001b[0m \u001b[0;34m+\u001b[0m \u001b[0;36m2\u001b[0m\u001b[0;34m)\u001b[0m\u001b[0;34m\u001b[0m\u001b[0;34m\u001b[0m\u001b[0m\n\u001b[0m",
            "\u001b[0;31mTypeError\u001b[0m: can only concatenate list (not \"int\") to list"
          ]
        }
      ]
    },
    {
      "cell_type": "markdown",
      "metadata": {
        "id": "nYV_cab39Iwl"
      },
      "source": [
        "No es posible sumar un numero a cada uno de los elementos de una lista. Sin embargo, esto funciona distinto en Numpy."
      ]
    },
    {
      "cell_type": "code",
      "metadata": {
        "id": "PleL40BL9Iwl",
        "outputId": "f590947a-a8cf-4654-c77f-7bbeaacf5d48",
        "colab": {
          "base_uri": "https://localhost:8080/",
          "height": 35
        }
      },
      "source": [
        "#Suma 2 a cada elemento de mi_array\n",
        "mi_lista2 = [i + 2 for i in mi_lista]\n",
        "\n",
        "print(mi_lista2)"
      ],
      "execution_count": null,
      "outputs": [
        {
          "output_type": "stream",
          "text": [
            "[47, 125, 91, 5, 47, 4, 101, 58, 36, 12]\n"
          ],
          "name": "stdout"
        }
      ]
    },
    {
      "cell_type": "markdown",
      "metadata": {
        "id": "B5fXUiPh9Iwo"
      },
      "source": [
        "El comportamiento tambien es distinto para la operacion de multiplicacion."
      ]
    },
    {
      "cell_type": "code",
      "metadata": {
        "id": "Xv_O7QVH9Iwo",
        "outputId": "3377ec2e-6b42-4920-b5f2-baa99ca2c0e9",
        "colab": {
          "base_uri": "https://localhost:8080/",
          "height": 35
        }
      },
      "source": [
        "#Corre el siguiente codigo y fijate que pasa\n",
        "print(mi_lista * 2)"
      ],
      "execution_count": null,
      "outputs": [
        {
          "output_type": "stream",
          "text": [
            "[45, 123, 89, 3, 45, 2, 99, 56, 34, 10, 45, 123, 89, 3, 45, 2, 99, 56, 34, 10]\n"
          ],
          "name": "stdout"
        }
      ]
    },
    {
      "cell_type": "code",
      "metadata": {
        "id": "B9rBbXW59Iwr",
        "outputId": "1f099b8e-7895-40a1-9c99-da5b2b5e111d",
        "colab": {
          "base_uri": "https://localhost:8080/",
          "height": 35
        }
      },
      "source": [
        "#Ahora multiplica por dos cada elemento de mi_array\n",
        "\n",
        "mi_lista3 =  [i * 2 for i in mi_lista]\n",
        "\n",
        "print(mi_lista3)"
      ],
      "execution_count": null,
      "outputs": [
        {
          "output_type": "stream",
          "text": [
            "[90, 246, 178, 6, 90, 4, 198, 112, 68, 20]\n"
          ],
          "name": "stdout"
        }
      ]
    },
    {
      "cell_type": "markdown",
      "metadata": {
        "id": "EuWM5oic9Iwt"
      },
      "source": [
        "Los arrays y las listas se comportan diferente frente a operaciones con otros arrays/listas"
      ]
    },
    {
      "cell_type": "code",
      "metadata": {
        "id": "GQ505ALF9Iwt",
        "colab": {
          "base_uri": "https://localhost:8080/",
          "height": 214
        },
        "outputId": "1f50ffa6-f6c1-405a-b2f3-17daaab4adb7"
      },
      "source": [
        "#Corre el siguiente codigo\n",
        "lista1 = [1, 2, 3, 4, 5]\n",
        "lista2 = [5, 4, 3, 2, 1]\n",
        "\n",
        "arr1 = np.array(lista1)\n",
        "arr2 = np.array(lista2)"
      ],
      "execution_count": null,
      "outputs": [
        {
          "output_type": "error",
          "ename": "NameError",
          "evalue": "ignored",
          "traceback": [
            "\u001b[0;31m---------------------------------------------------------------------------\u001b[0m",
            "\u001b[0;31mNameError\u001b[0m                                 Traceback (most recent call last)",
            "\u001b[0;32m<ipython-input-2-3b5abe1eb539>\u001b[0m in \u001b[0;36m<module>\u001b[0;34m()\u001b[0m\n\u001b[1;32m      2\u001b[0m \u001b[0mlista2\u001b[0m \u001b[0;34m=\u001b[0m \u001b[0;34m[\u001b[0m\u001b[0;36m5\u001b[0m\u001b[0;34m,\u001b[0m \u001b[0;36m4\u001b[0m\u001b[0;34m,\u001b[0m \u001b[0;36m3\u001b[0m\u001b[0;34m,\u001b[0m \u001b[0;36m2\u001b[0m\u001b[0;34m,\u001b[0m \u001b[0;36m1\u001b[0m\u001b[0;34m]\u001b[0m\u001b[0;34m\u001b[0m\u001b[0;34m\u001b[0m\u001b[0m\n\u001b[1;32m      3\u001b[0m \u001b[0;34m\u001b[0m\u001b[0m\n\u001b[0;32m----> 4\u001b[0;31m \u001b[0marr1\u001b[0m \u001b[0;34m=\u001b[0m \u001b[0mnp\u001b[0m\u001b[0;34m.\u001b[0m\u001b[0marray\u001b[0m\u001b[0;34m(\u001b[0m\u001b[0mlista1\u001b[0m\u001b[0;34m)\u001b[0m\u001b[0;34m\u001b[0m\u001b[0;34m\u001b[0m\u001b[0m\n\u001b[0m\u001b[1;32m      5\u001b[0m \u001b[0marr2\u001b[0m \u001b[0;34m=\u001b[0m \u001b[0mnp\u001b[0m\u001b[0;34m.\u001b[0m\u001b[0marray\u001b[0m\u001b[0;34m(\u001b[0m\u001b[0mlista2\u001b[0m\u001b[0;34m)\u001b[0m\u001b[0;34m\u001b[0m\u001b[0;34m\u001b[0m\u001b[0m\n",
            "\u001b[0;31mNameError\u001b[0m: name 'np' is not defined"
          ]
        }
      ]
    },
    {
      "cell_type": "code",
      "metadata": {
        "id": "CFhhBc0r9Iww",
        "outputId": "dab69bd5-f3c6-474e-edc9-22f5ac43ad9f",
        "colab": {
          "base_uri": "https://localhost:8080/",
          "height": 35
        }
      },
      "source": [
        "#Concatena las dos listas\n",
        "lista1 + lista2"
      ],
      "execution_count": null,
      "outputs": [
        {
          "output_type": "execute_result",
          "data": {
            "text/plain": [
              "[1, 2, 3, 4, 5, 5, 4, 3, 2, 1]"
            ]
          },
          "metadata": {
            "tags": []
          },
          "execution_count": 12
        }
      ]
    },
    {
      "cell_type": "code",
      "metadata": {
        "id": "xCz2gztf9Iwy",
        "outputId": "2c8cab9a-41d1-4e8a-8c3e-8a7503a6460e",
        "colab": {
          "base_uri": "https://localhost:8080/"
        }
      },
      "source": [
        "#Suma los elementos de los dos arrays\n",
        "\n",
        "#lista3 = []\n",
        "#for i in lista1:\n",
        "#  for j in lista2:\n",
        "#    lista3.append(i + j)\n",
        "#print(lista3)\n",
        "lista1 = [1,2,3,4]\n",
        "lista2 = [9,2,3,4]\n",
        "\n",
        "array1 = np.array(lista1)\n",
        "array2 = np.array(lista2)\n",
        "\n",
        "print(array1 + array2)"
      ],
      "execution_count": 8,
      "outputs": [
        {
          "output_type": "stream",
          "name": "stdout",
          "text": [
            "[10  4  6  8]\n"
          ]
        }
      ]
    },
    {
      "cell_type": "code",
      "metadata": {
        "id": "RtdR2N8W9Iw0",
        "colab": {
          "base_uri": "https://localhost:8080/"
        },
        "outputId": "ff43c2f4-7147-49ad-e96d-8ffe0f80f95f"
      },
      "source": [
        "#Multiplica los elementos de cada arreglo\n",
        "lista1 = [1,2,3,4]\n",
        "lista2 = [9,2,3,4]\n",
        "\n",
        "array1 = np.array(lista1)\n",
        "array2 = np.array(lista2)\n",
        "\n",
        "print(array1 * array2)"
      ],
      "execution_count": 9,
      "outputs": [
        {
          "output_type": "stream",
          "name": "stdout",
          "text": [
            "[ 9  4  9 16]\n"
          ]
        }
      ]
    },
    {
      "cell_type": "code",
      "metadata": {
        "id": "NSIEt1ni9Iw2",
        "colab": {
          "base_uri": "https://localhost:8080/"
        },
        "outputId": "8a1fa984-8ea7-4759-a574-ee25c1e3671e"
      },
      "source": [
        "#Resta los dos arrays\n",
        "\n",
        "lista1 = [1,2,3,4]\n",
        "lista2 = [9,2,3,4]\n",
        "\n",
        "array1= np.array(lista1)\n",
        "array2= np.array(lista2)\n",
        "\n",
        "print( array2 - array1)\n"
      ],
      "execution_count": 11,
      "outputs": [
        {
          "output_type": "stream",
          "name": "stdout",
          "text": [
            "[8 0 0 0]\n"
          ]
        }
      ]
    },
    {
      "cell_type": "code",
      "metadata": {
        "id": "rfU5a4JT9Iw5",
        "colab": {
          "base_uri": "https://localhost:8080/"
        },
        "outputId": "cacdde35-8626-425a-e4a3-59fba109efa4"
      },
      "source": [
        "#Dividi los dos arrays\n",
        "print(array1 / array2)"
      ],
      "execution_count": 12,
      "outputs": [
        {
          "output_type": "stream",
          "name": "stdout",
          "text": [
            "[0.11111111 1.         1.         1.        ]\n"
          ]
        }
      ]
    },
    {
      "cell_type": "code",
      "metadata": {
        "id": "vsK1bh2t9Iw_",
        "colab": {
          "base_uri": "https://localhost:8080/"
        },
        "outputId": "62a31f3d-b7f8-47ee-a17b-22862bdcf2fd"
      },
      "source": [
        "#Eleva el array1 al array2\n",
        "print(array1 **array2)"
      ],
      "execution_count": 13,
      "outputs": [
        {
          "output_type": "stream",
          "name": "stdout",
          "text": [
            "[  1   4  27 256]\n"
          ]
        }
      ]
    },
    {
      "cell_type": "markdown",
      "metadata": {
        "id": "xHrtSrCs9IxC"
      },
      "source": [
        "Para acceder a los elementos de los arrays de una dimension se utilizan los indices como las listas."
      ]
    },
    {
      "cell_type": "code",
      "metadata": {
        "id": "_AlcV5K09IxC",
        "outputId": "3edb7c2d-0d42-4b96-a921-9abd88e00630",
        "colab": {
          "base_uri": "https://localhost:8080/"
        }
      },
      "source": [
        "#Corre el siguiente codigo\n",
        "print(lista1[0], array1[0])"
      ],
      "execution_count": 15,
      "outputs": [
        {
          "output_type": "stream",
          "name": "stdout",
          "text": [
            "1 1\n"
          ]
        }
      ]
    },
    {
      "cell_type": "code",
      "metadata": {
        "id": "rKRYd4OK9IxG",
        "outputId": "1a47b5f9-c56b-4e99-d340-aaf7a023d0d0",
        "colab": {
          "base_uri": "https://localhost:8080/"
        }
      },
      "source": [
        "#Obtene el 3er elemento de arr1\n",
        "print(lista1[2], array1[2])"
      ],
      "execution_count": 16,
      "outputs": [
        {
          "output_type": "stream",
          "name": "stdout",
          "text": [
            "3 3\n"
          ]
        }
      ]
    },
    {
      "cell_type": "code",
      "metadata": {
        "id": "HihzUNA09IxI",
        "outputId": "77f5c107-96c3-4922-8232-dbe1b152d8b5",
        "colab": {
          "base_uri": "https://localhost:8080/",
          "height": 158
        }
      },
      "source": [
        "#Obtene el 5to elemento de arr2\n",
        "print (lista2[4], array2[4])"
      ],
      "execution_count": 17,
      "outputs": [
        {
          "output_type": "error",
          "ename": "IndexError",
          "evalue": "list index out of range",
          "traceback": [
            "\u001b[0;31m---------------------------------------------------------------------------\u001b[0m",
            "\u001b[0;31mIndexError\u001b[0m                                Traceback (most recent call last)",
            "\u001b[0;32m<ipython-input-17-4121a9790ca4>\u001b[0m in \u001b[0;36m<cell line: 2>\u001b[0;34m()\u001b[0m\n\u001b[1;32m      1\u001b[0m \u001b[0;31m#Obtene el 5to elemento de arr2\u001b[0m\u001b[0;34m\u001b[0m\u001b[0;34m\u001b[0m\u001b[0m\n\u001b[0;32m----> 2\u001b[0;31m \u001b[0mprint\u001b[0m \u001b[0;34m(\u001b[0m\u001b[0mlista2\u001b[0m\u001b[0;34m[\u001b[0m\u001b[0;36m4\u001b[0m\u001b[0;34m]\u001b[0m\u001b[0;34m,\u001b[0m \u001b[0marray2\u001b[0m\u001b[0;34m[\u001b[0m\u001b[0;36m4\u001b[0m\u001b[0;34m]\u001b[0m\u001b[0;34m)\u001b[0m\u001b[0;34m\u001b[0m\u001b[0;34m\u001b[0m\u001b[0m\n\u001b[0m",
            "\u001b[0;31mIndexError\u001b[0m: list index out of range"
          ]
        }
      ]
    },
    {
      "cell_type": "code",
      "metadata": {
        "id": "4uvf6wfu9IxL",
        "colab": {
          "base_uri": "https://localhost:8080/"
        },
        "outputId": "bda2b71c-73b0-496a-e333-351d0f2e4111"
      },
      "source": [
        "#Obtene el ultimo elemento de arr1\n",
        "array1 = np.array (lista1)\n",
        "print (array1[-1])\n",
        "\n"
      ],
      "execution_count": 18,
      "outputs": [
        {
          "output_type": "stream",
          "name": "stdout",
          "text": [
            "4\n"
          ]
        }
      ]
    },
    {
      "cell_type": "markdown",
      "metadata": {
        "id": "Mavn6y_Q9IxN"
      },
      "source": [
        "Asi tambien obtenemos una porción del array de la misma manera que obtenemos una parte de una lista. A su vez podemos reasignar nuevos valores a una porción del array."
      ]
    },
    {
      "cell_type": "code",
      "metadata": {
        "id": "FBjVCpWo9IxN"
      },
      "source": [
        "#Corre el siguiente codigo\n",
        "array1 = np.array(lista1)\n"
      ],
      "execution_count": 26,
      "outputs": []
    },
    {
      "cell_type": "code",
      "metadata": {
        "id": "9F9vBgU69IxP",
        "outputId": "47cd212f-77c0-4a74-c460-3882e0de6ae9",
        "colab": {
          "base_uri": "https://localhost:8080/"
        }
      },
      "source": [
        "#Imprimi el arr1\n",
        "print(array1)"
      ],
      "execution_count": 21,
      "outputs": [
        {
          "output_type": "stream",
          "name": "stdout",
          "text": [
            "[1 2 3 4]\n"
          ]
        }
      ]
    },
    {
      "cell_type": "markdown",
      "metadata": {
        "id": "89rDeEhV9IxR"
      },
      "source": [
        "## Arreglos multidimensionales"
      ]
    },
    {
      "cell_type": "markdown",
      "metadata": {
        "id": "CRUXEDm49IxR"
      },
      "source": [
        "Las listas son cadenas unidimensionales de elementos. Los arreglos pueden ser multidimensionales. Para comprender mejor que son, miremos el siguiente ejemplo:"
      ]
    },
    {
      "cell_type": "code",
      "metadata": {
        "id": "kuzYsFb99IxS",
        "outputId": "a560453d-4c84-4a17-df3e-adff81dccd45",
        "colab": {
          "base_uri": "https://localhost:8080/"
        }
      },
      "source": [
        "#Corre el siguiente codigo\n",
        "lista = [[0, 1, 3], [3, 4, 5]]\n",
        "arr2d = np.array(lista)\n",
        "arr2d"
      ],
      "execution_count": 27,
      "outputs": [
        {
          "output_type": "execute_result",
          "data": {
            "text/plain": [
              "array([[0, 1, 3],\n",
              "       [3, 4, 5]])"
            ]
          },
          "metadata": {},
          "execution_count": 27
        }
      ]
    },
    {
      "cell_type": "code",
      "metadata": {
        "id": "oNqrJJbi9IxU",
        "outputId": "cc56ea32-4009-4efd-cf53-6a014085c7c7",
        "colab": {
          "base_uri": "https://localhost:8080/"
        }
      },
      "source": [
        "#Veamos cuantas dimensiones tiene el array\n",
        "print(arr2d.ndim)"
      ],
      "execution_count": 28,
      "outputs": [
        {
          "output_type": "stream",
          "name": "stdout",
          "text": [
            "2\n"
          ]
        }
      ]
    },
    {
      "cell_type": "code",
      "metadata": {
        "id": "Vj0qCMcu9IxW",
        "outputId": "0d6f812d-86c4-45ff-e083-d84cabb2528d",
        "colab": {
          "base_uri": "https://localhost:8080/"
        }
      },
      "source": [
        "#Veamos cuantos elementos tiene el array\n",
        "print(arr2d.size)"
      ],
      "execution_count": 29,
      "outputs": [
        {
          "output_type": "stream",
          "name": "stdout",
          "text": [
            "6\n"
          ]
        }
      ]
    },
    {
      "cell_type": "code",
      "metadata": {
        "id": "VFKyjgth9IxY",
        "outputId": "031cfce1-2eb6-4c6c-efa0-09a6ed77affe",
        "colab": {
          "base_uri": "https://localhost:8080/"
        }
      },
      "source": [
        "#Arma ahora un array de 3 dimensiones.\n",
        "coso = [[[2,4,6],[1,3,5],[8,10,12]]]\n",
        "arr3d = np.array(coso)\n",
        "arr3d"
      ],
      "execution_count": 30,
      "outputs": [
        {
          "output_type": "execute_result",
          "data": {
            "text/plain": [
              "array([[[ 2,  4,  6],\n",
              "        [ 1,  3,  5],\n",
              "        [ 8, 10, 12]]])"
            ]
          },
          "metadata": {},
          "execution_count": 30
        }
      ]
    },
    {
      "cell_type": "code",
      "metadata": {
        "id": "wfHd2SMX9Ixa",
        "outputId": "5dc4c584-5816-4981-cd39-289a360fa178",
        "colab": {
          "base_uri": "https://localhost:8080/"
        }
      },
      "source": [
        "#Chequea usando ndim que efectivamente tenga tres dimensiones\n",
        "print(arr3d.ndim)"
      ],
      "execution_count": 31,
      "outputs": [
        {
          "output_type": "stream",
          "name": "stdout",
          "text": [
            "3\n"
          ]
        }
      ]
    },
    {
      "cell_type": "markdown",
      "metadata": {
        "id": "fmEhCwq49Ixb"
      },
      "source": [
        "**¿Como accedemos entonces a un array de mas de una dimension?**"
      ]
    },
    {
      "cell_type": "code",
      "metadata": {
        "id": "-9c0rOTg9Ixc"
      },
      "source": [
        "#definamos un nuevo array\n",
        "lista2 = [[0, 1, 3], [3, 4, 5], [9, 10, 4], [2, 5, 6]]\n",
        "nuevo_array = np.array(lista2)"
      ],
      "execution_count": 32,
      "outputs": []
    },
    {
      "cell_type": "markdown",
      "metadata": {
        "id": "Hi_zFded9Ixd"
      },
      "source": [
        "¿Cuantas dimensiones tiene el array `nuevo_array`? Comprobalo usando `ndim`."
      ]
    },
    {
      "cell_type": "code",
      "metadata": {
        "id": "HL6EzD_p9Ixe",
        "outputId": "bf6d80ea-cf0b-49d4-a568-567d723af8f9",
        "colab": {
          "base_uri": "https://localhost:8080/"
        }
      },
      "source": [
        "#Dimensiones de nuevo_array\n",
        "print(nuevo_array.ndim)"
      ],
      "execution_count": 33,
      "outputs": [
        {
          "output_type": "stream",
          "name": "stdout",
          "text": [
            "2\n"
          ]
        }
      ]
    },
    {
      "cell_type": "code",
      "metadata": {
        "id": "gbYdjAsA9Ixg",
        "outputId": "99294239-e8c6-4312-dd0d-9ea98237fb04",
        "colab": {
          "base_uri": "https://localhost:8080/"
        }
      },
      "source": [
        "#Mostra nuevo_array\n",
        "print(nuevo_array)"
      ],
      "execution_count": 34,
      "outputs": [
        {
          "output_type": "stream",
          "name": "stdout",
          "text": [
            "[[ 0  1  3]\n",
            " [ 3  4  5]\n",
            " [ 9 10  4]\n",
            " [ 2  5  6]]\n"
          ]
        }
      ]
    },
    {
      "cell_type": "markdown",
      "metadata": {
        "id": "BRDLHnGA9Ixj"
      },
      "source": [
        "Si para un array de 1 dimension, usabamos un indice, para un array de n dimensiones tenemos que usar n indices. En el caso de 2 dimensiones, usaremos 2 indices. El primero indica la fila y el segundo la columna."
      ]
    },
    {
      "cell_type": "code",
      "metadata": {
        "id": "gR50Ev219Ixk",
        "outputId": "3a62dc81-d399-44be-92c5-e9bb36fc4b7e",
        "colab": {
          "base_uri": "https://localhost:8080/"
        }
      },
      "source": [
        "#Corre el siguiente codigo\n",
        "print(nuevo_array[0, 1])"
      ],
      "execution_count": 35,
      "outputs": [
        {
          "output_type": "stream",
          "name": "stdout",
          "text": [
            "1\n"
          ]
        }
      ]
    },
    {
      "cell_type": "code",
      "metadata": {
        "id": "Vlrqe2DZ9Ixo",
        "outputId": "9924611e-7b38-4858-841f-d27463136fc3",
        "colab": {
          "base_uri": "https://localhost:8080/"
        }
      },
      "source": [
        "#Accede al tercer elemento de la segunda fila de nuevo_array\n",
        "print(nuevo_array[1,2])"
      ],
      "execution_count": 36,
      "outputs": [
        {
          "output_type": "stream",
          "name": "stdout",
          "text": [
            "5\n"
          ]
        }
      ]
    },
    {
      "cell_type": "code",
      "metadata": {
        "id": "mOKyEl6H9Ixq"
      },
      "source": [
        "#Accede al tercer elemento de la segunda fila de nuevo_array\n"
      ],
      "execution_count": 37,
      "outputs": []
    },
    {
      "cell_type": "code",
      "metadata": {
        "id": "A9jsjXoK9Ixs",
        "outputId": "3a8d5679-d412-4926-a53e-dbfb62825ff0",
        "colab": {
          "base_uri": "https://localhost:8080/"
        }
      },
      "source": [
        "#Accede al cuarto elemento de la segunda columna de nuevo_array\n",
        "print(nuevo_array[3,2])"
      ],
      "execution_count": 38,
      "outputs": [
        {
          "output_type": "stream",
          "name": "stdout",
          "text": [
            "6\n"
          ]
        }
      ]
    },
    {
      "cell_type": "code",
      "metadata": {
        "id": "sGc4P3E19Ixt",
        "outputId": "d0b49409-aeec-4ec8-8f7d-ca93f61d35fb",
        "colab": {
          "base_uri": "https://localhost:8080/"
        }
      },
      "source": [
        "#Accedo a toda la segunda columna\n",
        "nuevo_array[:, 1]"
      ],
      "execution_count": 39,
      "outputs": [
        {
          "output_type": "execute_result",
          "data": {
            "text/plain": [
              "array([ 1,  4, 10,  5])"
            ]
          },
          "metadata": {},
          "execution_count": 39
        }
      ]
    },
    {
      "cell_type": "code",
      "metadata": {
        "id": "1pxpVLmO9Ixw",
        "outputId": "365a08ab-4f06-451b-8050-93db20d5d89c",
        "colab": {
          "base_uri": "https://localhost:8080/"
        }
      },
      "source": [
        "#Accede a un subarray que vaya desde el segundo elemento de la\n",
        "#primer columna hasta el cuarto elemento de la tercer\n",
        "#columna de nuevo_array\n",
        "print(nuevo_array[: , 2])"
      ],
      "execution_count": 40,
      "outputs": [
        {
          "output_type": "stream",
          "name": "stdout",
          "text": [
            "[3 5 4 6]\n"
          ]
        }
      ]
    },
    {
      "cell_type": "code",
      "metadata": {
        "id": "p9fDidG99Ixy"
      },
      "source": [
        "#Accede a un subarray que vaya desde el primer elemento de la\n",
        "#segunda fila hasta el segundo elemento de la cuarta\n",
        "#fila de nuevo_array\n"
      ],
      "execution_count": 41,
      "outputs": []
    },
    {
      "cell_type": "markdown",
      "metadata": {
        "id": "YpXEjKk09Ix0"
      },
      "source": [
        "## Creación de arreglos"
      ]
    },
    {
      "cell_type": "markdown",
      "metadata": {
        "id": "tD-27Se19Ix1"
      },
      "source": [
        "- **np.zeros(shape, dtype, order)**: Crea un array con todos ceros en sus posiciones"
      ]
    },
    {
      "cell_type": "code",
      "metadata": {
        "id": "Kcdzl_U-9Ix2",
        "outputId": "4fd81336-636a-476b-8e58-500964cfb78e",
        "colab": {
          "base_uri": "https://localhost:8080/"
        }
      },
      "source": [
        "#Corre el siguiente codigo\n",
        "print(np.zeros((2, 2, 2)))"
      ],
      "execution_count": 42,
      "outputs": [
        {
          "output_type": "stream",
          "name": "stdout",
          "text": [
            "[[[0. 0.]\n",
            "  [0. 0.]]\n",
            "\n",
            " [[0. 0.]\n",
            "  [0. 0.]]]\n"
          ]
        }
      ]
    },
    {
      "cell_type": "markdown",
      "metadata": {
        "id": "Pbfo4SMN9Ix4"
      },
      "source": [
        "- **np.ones(shape, dtype, order)**: Crea un array con todos unos en sus posiciones"
      ]
    },
    {
      "cell_type": "code",
      "metadata": {
        "id": "XHnqDg3F9Ix5",
        "outputId": "c6dbc41f-d2a3-49ee-df26-597507710fda",
        "colab": {
          "base_uri": "https://localhost:8080/"
        }
      },
      "source": [
        "#Corre el siguiente codigo\n",
        "print(np.ones(10))"
      ],
      "execution_count": 43,
      "outputs": [
        {
          "output_type": "stream",
          "name": "stdout",
          "text": [
            "[1. 1. 1. 1. 1. 1. 1. 1. 1. 1.]\n"
          ]
        }
      ]
    },
    {
      "cell_type": "markdown",
      "metadata": {
        "id": "CYwoyqUz9Ix7"
      },
      "source": [
        "- **np.random.rand(d0, d1, ..., dn)**: Genera un array con valores al azar con una distribución `[0, 1)` y segun las dimensiones pasada como argumento."
      ]
    },
    {
      "cell_type": "code",
      "metadata": {
        "id": "WZL0bOTF9Ix7",
        "outputId": "4596cbcd-5eac-4df5-9aca-2e268993d394",
        "colab": {
          "base_uri": "https://localhost:8080/"
        }
      },
      "source": [
        "#Genera un array con valores al azar\n",
        "print(np.random.randn(10))"
      ],
      "execution_count": 44,
      "outputs": [
        {
          "output_type": "stream",
          "name": "stdout",
          "text": [
            "[ 1.2299031  -0.09262178  0.19832081  1.49333589  0.55577961 -0.24087598\n",
            " -0.2464616   0.30913454 -2.35231756 -0.68701919]\n"
          ]
        }
      ]
    },
    {
      "cell_type": "markdown",
      "metadata": {
        "id": "uL9DAYO-9Ix8"
      },
      "source": [
        "- **np.random.randint(low, high, size)**: Devuelve un array con enteros al azar. Cuando se especifica un solo entero como argumento este entero es entendido como el mayor valor que ese numero random puede tomar. Si se pasan dos, uno es el menor valor y el otro es el mayor valor. Con size se le puede decir que dimensiones tiene el array. Si no le paso ningun valor, devolvera solo un numero entero."
      ]
    },
    {
      "cell_type": "code",
      "metadata": {
        "id": "KeLDVrWI9Ix9",
        "outputId": "31b8a031-a81e-4e76-be0f-f3fdfdabeb24",
        "colab": {
          "base_uri": "https://localhost:8080/"
        }
      },
      "source": [
        "#Genera un array con enteros al azar\n",
        "np.random.randint(5)"
      ],
      "execution_count": 45,
      "outputs": [
        {
          "output_type": "execute_result",
          "data": {
            "text/plain": [
              "3"
            ]
          },
          "metadata": {},
          "execution_count": 45
        }
      ]
    },
    {
      "cell_type": "markdown",
      "metadata": {
        "id": "vnNsy9gw9Ix_"
      },
      "source": [
        "- **np.arange([start, ]stop, [step, ])**: Devuelve numero simetricamente distribuidos segun los valores datos. El primer valor es el comienzo, el segundo el final y el tercero representa cada cuanto queremos esos valores."
      ]
    },
    {
      "cell_type": "code",
      "metadata": {
        "id": "vOuXCx4D9Ix_",
        "outputId": "a05f97d1-ec8f-4a2d-cd21-07a4884956f5",
        "colab": {
          "base_uri": "https://localhost:8080/"
        }
      },
      "source": [
        "#Corre esta linea de codigo y comprende como funciona np.arange\n",
        "np.arange(2, 16, 2)"
      ],
      "execution_count": 46,
      "outputs": [
        {
          "output_type": "execute_result",
          "data": {
            "text/plain": [
              "array([ 2,  4,  6,  8, 10, 12, 14])"
            ]
          },
          "metadata": {},
          "execution_count": 46
        }
      ]
    },
    {
      "cell_type": "markdown",
      "metadata": {
        "id": "ad8MpgsK9IyB"
      },
      "source": [
        "## Funciones estadisticas"
      ]
    },
    {
      "cell_type": "markdown",
      "metadata": {
        "id": "hkKe1XHu9IyB"
      },
      "source": [
        "NumPy nos facilita varias funciones que nos permitiran obtener algunos parametros estadisticos de nuestros arrays. Veamos cuales son estas funciones."
      ]
    },
    {
      "cell_type": "code",
      "metadata": {
        "id": "nXp_uV3j9IyC",
        "outputId": "50dc41a1-1e3d-41bb-d8d2-97939342e026",
        "colab": {
          "base_uri": "https://localhost:8080/"
        }
      },
      "source": [
        "#Volvamos a ver como era nuestro array nuevo_array\n",
        "print(nuevo_array)"
      ],
      "execution_count": 47,
      "outputs": [
        {
          "output_type": "stream",
          "name": "stdout",
          "text": [
            "[[ 0  1  3]\n",
            " [ 3  4  5]\n",
            " [ 9 10  4]\n",
            " [ 2  5  6]]\n"
          ]
        }
      ]
    },
    {
      "cell_type": "markdown",
      "metadata": {
        "id": "2Pn6RQZU9IyE"
      },
      "source": [
        "- `np.mean()`: Media o Promedio."
      ]
    },
    {
      "cell_type": "code",
      "metadata": {
        "id": "nRBJGUd39IyF",
        "outputId": "2d3e7b7e-edee-4e20-96e0-bf72267c1c84",
        "colab": {
          "base_uri": "https://localhost:8080/"
        }
      },
      "source": [
        "#usa la funcion mean para obtener el promedio de los valores en nuevo_array\n",
        "np.mean(nuevo_array)"
      ],
      "execution_count": 48,
      "outputs": [
        {
          "output_type": "execute_result",
          "data": {
            "text/plain": [
              "4.333333333333333"
            ]
          },
          "metadata": {},
          "execution_count": 48
        }
      ]
    },
    {
      "cell_type": "markdown",
      "metadata": {
        "id": "Zc1r1TvP9IyG"
      },
      "source": [
        "- `np.var()`: Devuelve la dispersión de los valores alrededor de la media"
      ]
    },
    {
      "cell_type": "code",
      "metadata": {
        "id": "WJGJTzY89IyI",
        "outputId": "05bfeede-bec0-4b28-bbdb-73efe119d2a0",
        "colab": {
          "base_uri": "https://localhost:8080/"
        }
      },
      "source": [
        "#usa la funcion var para obtener la varianza de los valores en nuevo_array\n",
        "np.var(nuevo_array)"
      ],
      "execution_count": 49,
      "outputs": [
        {
          "output_type": "execute_result",
          "data": {
            "text/plain": [
              "8.055555555555557"
            ]
          },
          "metadata": {},
          "execution_count": 49
        }
      ]
    },
    {
      "cell_type": "markdown",
      "metadata": {
        "id": "9eM5HfIk9IyK"
      },
      "source": [
        "- `np.sum()`: devuelve la suma de todos los valores en el array.\n",
        "- `np.min()`: devuelve el menor valor en el array\n",
        "- `np.max()`: devuelve el maximo valor en el array"
      ]
    },
    {
      "cell_type": "code",
      "metadata": {
        "id": "MMaX3qaq9IyK",
        "outputId": "b1f1505e-1aec-417d-9b11-fd58217e6b30",
        "colab": {
          "base_uri": "https://localhost:8080/"
        }
      },
      "source": [
        "#Muestra la suma de los valores en nuevo_array\n",
        "np.sum(nuevo_array)\n",
        "\n",
        "#Muestra el minimo y maximo valor en nuevo array\n",
        "\n",
        "np.min(nuevo_array)\n",
        "np.max(nuevo_array)"
      ],
      "execution_count": 50,
      "outputs": [
        {
          "output_type": "execute_result",
          "data": {
            "text/plain": [
              "10"
            ]
          },
          "metadata": {},
          "execution_count": 50
        }
      ]
    },
    {
      "cell_type": "code",
      "metadata": {
        "id": "G0NMKT609IyM"
      },
      "source": [],
      "execution_count": 50,
      "outputs": []
    }
  ]
}